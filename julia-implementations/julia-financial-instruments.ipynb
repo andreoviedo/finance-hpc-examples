{
 "cells": [
  {
   "cell_type": "markdown",
   "id": "ab3b0f62",
   "metadata": {},
   "source": [
    "# Implementation of Financial Instruments using Julia"
   ]
  },
  {
   "cell_type": "code",
   "execution_count": null,
   "id": "ca8f15d6",
   "metadata": {
    "vscode": {
     "languageId": "plaintext"
    }
   },
   "outputs": [],
   "source": []
  }
 ],
 "metadata": {
  "language_info": {
   "name": "python"
  }
 },
 "nbformat": 4,
 "nbformat_minor": 5
}
